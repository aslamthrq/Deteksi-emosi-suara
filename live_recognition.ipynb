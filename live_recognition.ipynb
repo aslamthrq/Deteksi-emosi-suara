{
 "cells": [
  {
   "cell_type": "code",
   "execution_count": 1,
   "metadata": {},
   "outputs": [
    {
     "name": "stdout",
     "output_type": "stream",
     "text": [
      "Requirement already satisfied: pyaudio in c:\\users\\acer\\appdata\\local\\programs\\python\\python311\\lib\\site-packages (0.2.13)\n"
     ]
    }
   ],
   "source": [
    "!pip install pyaudio"
   ]
  },
  {
   "cell_type": "code",
   "execution_count": 2,
   "metadata": {},
   "outputs": [
    {
     "name": "stderr",
     "output_type": "stream",
     "text": [
      "c:\\Users\\ACER\\AppData\\Local\\Programs\\Python\\Python311\\Lib\\site-packages\\pydub\\utils.py:170: RuntimeWarning: Couldn't find ffmpeg or avconv - defaulting to ffmpeg, but may not work\n",
      "  warn(\"Couldn't find ffmpeg or avconv - defaulting to ffmpeg, but may not work\", RuntimeWarning)\n"
     ]
    },
    {
     "name": "stdout",
     "output_type": "stream",
     "text": [
      "WARNING:tensorflow:From c:\\Users\\ACER\\AppData\\Local\\Programs\\Python\\Python311\\Lib\\site-packages\\keras\\src\\losses.py:2976: The name tf.losses.sparse_softmax_cross_entropy is deprecated. Please use tf.compat.v1.losses.sparse_softmax_cross_entropy instead.\n",
      "\n"
     ]
    }
   ],
   "source": [
    "import os\n",
    "from json_tricks import load\n",
    "import pyaudio\n",
    "import wave\n",
    "from array import array\n",
    "import struct\n",
    "import time\n",
    "from datetime import datetime\n",
    "import shutil\n",
    "import numpy as np\n",
    "import librosa\n",
    "from pydub import AudioSegment, effects\n",
    "import noisereduce as nr\n",
    "import tensorflow as tf\n",
    "import matplotlib.pyplot as plt\n"
   ]
  },
  {
   "cell_type": "code",
   "execution_count": 3,
   "metadata": {},
   "outputs": [
    {
     "name": "stdout",
     "output_type": "stream",
     "text": [
      "WARNING:tensorflow:From c:\\Users\\ACER\\AppData\\Local\\Programs\\Python\\Python311\\Lib\\site-packages\\keras\\src\\layers\\rnn\\lstm.py:148: The name tf.executing_eagerly_outside_functions is deprecated. Please use tf.compat.v1.executing_eagerly_outside_functions instead.\n",
      "\n",
      "WARNING:tensorflow:From c:\\Users\\ACER\\AppData\\Local\\Programs\\Python\\Python311\\Lib\\site-packages\\keras\\src\\optimizers\\__init__.py:309: The name tf.train.Optimizer is deprecated. Please use tf.compat.v1.train.Optimizer instead.\n",
      "\n",
      "Model: \"sequential\"\n",
      "_________________________________________________________________\n",
      " Layer (type)                Output Shape              Param #   \n",
      "=================================================================\n",
      " lstm (LSTM)                 (None, 400, 64)           20480     \n",
      "                                                                 \n",
      " dropout (Dropout)           (None, 400, 64)           0         \n",
      "                                                                 \n",
      " lstm_1 (LSTM)               (None, 64)                33024     \n",
      "                                                                 \n",
      " dropout_1 (Dropout)         (None, 64)                0         \n",
      "                                                                 \n",
      " dense (Dense)               (None, 8)                 520       \n",
      "                                                                 \n",
      "=================================================================\n",
      "Total params: 54024 (211.03 KB)\n",
      "Trainable params: 54024 (211.03 KB)\n",
      "Non-trainable params: 0 (0.00 Byte)\n",
      "_________________________________________________________________\n",
      "None\n"
     ]
    }
   ],
   "source": [
    "saved_model_path = 'D:/1. KULIAH/SEMESTER 5/STKI/checkpoint 1/model.json'\n",
    "saved_weights_path = 'D:/1. KULIAH/SEMESTER 5/STKI/checkpoint 1/model_weights.h5'\n",
    "\n",
    "#Reading the model from JSON file\n",
    "with open(saved_model_path, 'r') as json_file:\n",
    "    json_savedModel = json_file.read()\n",
    "\n",
    "# Loading the model architecture, weights\n",
    "model = tf.keras.models.model_from_json(json_savedModel)\n",
    "model.load_weights(saved_weights_path)\n",
    "\n",
    "# Compiling the model with similar parameters as the original model.\n",
    "model.compile(loss='categorical_crossentropy',\n",
    "                optimizer='RMSProp',\n",
    "                metrics=['categorical_accuracy'])\n",
    "\n",
    "print(model.summary())"
   ]
  },
  {
   "cell_type": "code",
   "execution_count": 4,
   "metadata": {},
   "outputs": [],
   "source": [
    "# Emotions list is created for a readable form of the model prediction.\n",
    "\n",
    "emotions = {\n",
    "    0 : 'neutral',\n",
    "    1 : 'calm',\n",
    "    2 : 'happy',\n",
    "    3 : 'sad',\n",
    "    4 : 'angry',\n",
    "    5 : 'fearful',\n",
    "    6 : 'disgust',\n",
    "    7 : 'suprised'\n",
    "}\n",
    "emo_list = list(emotions.values())\n",
    "\n",
    "def is_silent(data):\n",
    "    # Returns 'True' if below the 'silent' threshold\n",
    "    return max(data) < 100\n"
   ]
  },
  {
   "cell_type": "code",
   "execution_count": 5,
   "metadata": {},
   "outputs": [],
   "source": [
    "def voice_predictions():\n",
    "\n",
    "\n",
    "\n",
    "    \n",
    "    RATE = 24414\n",
    "    CHUNK = 512\n",
    "    RECORD_SECONDS = 7\n",
    "    FORMAT = pyaudio.paInt32\n",
    "    CHANNELS = 1\n",
    "\n",
    "    # Initialize variables\n",
    "    total_length = 204288 # desired frame length for all of the audio samples.\n",
    "    frame_length = 2048\n",
    "    hop_length = 512\n",
    "    WAVE_OUTPUT_FILE = \"D:/1. KULIAH/SEMESTER 5/STKI/checkpoint 1/output_testing.wav\"\n",
    "    WAVE_OUTPUT_FILENAME_TESTING = \"D:/1. KULIAH/SEMESTER 5/STKI/checkpoint 1/dataset/Actor_02/03-01-01-01-01-01-02.wav\"\n",
    "\n",
    "    p = pyaudio.PyAudio()\n",
    "    stream = p.open(format=FORMAT,\n",
    "                channels=CHANNELS,\n",
    "                rate=RATE,\n",
    "                input=True,\n",
    "                frames_per_buffer=CHUNK)\n",
    "\n",
    "    data = array('h', np.random.randint(size = 512, low = 0, high = 500))\n",
    "\n",
    "    print(\"** Analysis started\")\n",
    "    total_predictions = [] # A list for all predictions in the session.\n",
    "    tic = time.perf_counter()\n",
    "\n",
    "\n",
    "    print(\"* Analysis...\")\n",
    "    frames = []\n",
    "    data = np.nan # Reset 'data' variable.\n",
    "\n",
    "    timesteps = int(RATE / CHUNK * RECORD_SECONDS) # => 339\n",
    "\n",
    "    # Insert frames to 'output.wav'.\n",
    "    for i in range(0, timesteps):\n",
    "        data = array('l', stream.read(CHUNK))\n",
    "        frames.append(data)\n",
    "\n",
    "        wf = wave.open(WAVE_OUTPUT_FILE, 'wb')\n",
    "        wf.setnchannels(CHANNELS)\n",
    "        wf.setsampwidth(p.get_sample_size(FORMAT))\n",
    "        wf.setframerate(RATE)\n",
    "        wf.writeframes(b''.join(frames))\n",
    "\n",
    "    print(\"* done Analysis\")\n",
    "\n",
    "    rms_t = []\n",
    "    zcr_t = []\n",
    "    mfcc_t = []\n",
    "\n",
    "    _, sr = librosa.load(path = WAVE_OUTPUT_FILENAME_TESTING, sr = None) # sr (the sample rate) is used for librosa's MFCCs. '_' is irrelevant.\n",
    "    # Load the audio file.\n",
    "    rawsound = AudioSegment.from_file(WAVE_OUTPUT_FILENAME_TESTING)\n",
    "    # Normalize the audio to +5.0 dBFS.\n",
    "    normalizedsound = effects.normalize(rawsound, headroom = 0)\n",
    "    # Transform the normalized audio to np.array of samples.\n",
    "    normal_x = np.array(normalizedsound.get_array_of_samples(), dtype = 'float32')\n",
    "    # Trim silence from the beginning and the end.\n",
    "    xt, index = librosa.effects.trim(normal_x, top_db=30)\n",
    "      #print(file,\"\\t\", len(xt), \"\\t\", rawsound.dBFS, \"\\t\", normalizedsound.dBFS) #--QA purposes if needed--\n",
    "    # Pad for duration equalization.\n",
    "    padded_x = np.pad(xt, (0, 204288-len(xt)), 'constant')\n",
    "    # Noise reduction.\n",
    "    final_x = nr.reduce_noise(y=padded_x,\n",
    "                          sr=sr)\n",
    "\n",
    "    # Features extraction\n",
    "    f1 = librosa.feature.rms(y=final_x, frame_length=frame_length, hop_length=hop_length) # Energy - Root Mean Square\n",
    "    f2 = librosa.feature.zero_crossing_rate(y=final_x , frame_length=frame_length, hop_length=hop_length, center=True) # ZCR\n",
    "    f3 = librosa.feature.mfcc(y=final_x, sr=sr, n_mfcc=13, hop_length = hop_length) # MFCC\n",
    "\n",
    "    # Filling the data lists\n",
    "    rms_t.append(f1)\n",
    "    zcr_t.append(f2)\n",
    "    mfcc_t.append(f3)\n",
    "\n",
    "    f_rms_t = np.asarray(rms_t).astype('float32')\n",
    "    f_rms_t = np.swapaxes(f_rms_t,1,2)\n",
    "    f_zcr_t = np.asarray(zcr_t).astype('float32')\n",
    "    f_zcr_t = np.swapaxes(f_zcr_t,1,2)\n",
    "    f_mfccs_t = np.asarray(mfcc_t).astype('float32')\n",
    "    f_mfccs_t = np.swapaxes(f_mfccs_t,1,2)\n",
    "\n",
    "    #print(file, emotionfix(name))\n",
    "\n",
    "\n",
    "    X = np.concatenate((f_zcr_t, f_rms_t, f_mfccs_t), axis=2)\n",
    "\n",
    "    predictions = model.predict(X, use_multiprocessing=True)\n",
    "\n",
    "    y_pred_class = np.argmax(predictions)\n",
    "    print(\"predictions : \" + str(y_pred_class)+ \" \" +emotions.get(y_pred_class))\n",
    "\n",
    "\n",
    "    pred_list = list(predictions)\n",
    "    pred_np = np.squeeze(np.array(pred_list).tolist(), axis=0) # Get rid of 'array' & 'dtype' statments.\n",
    "    total_predictions.append(pred_np)\n",
    "    print(pred_list)\n",
    "    fig = plt.figure(figsize = (10, 2))\n",
    "    plt.bar(emo_list, pred_np, color = 'darkturquoise')\n",
    "    plt.ylabel(\"Probabilty (%)\")\n",
    "    plt.show()\n",
    "\n",
    "\n",
    "    return predictions"
   ]
  },
  {
   "cell_type": "code",
   "execution_count": 14,
   "metadata": {},
   "outputs": [
    {
     "name": "stdout",
     "output_type": "stream",
     "text": [
      "** Analysis started\n",
      "* Analysis...\n",
      "* done Analysis\n",
      "1/1 [==============================] - 0s 37ms/step\n",
      "predictions : 0 neutral\n",
      "[array([9.23685431e-01, 1.14215789e-02, 3.52333002e-02, 1.19822575e-02,\n",
      "       1.68211220e-04, 3.17504746e-03, 4.39478550e-04, 1.38946995e-02],\n",
      "      dtype=float32)]\n"
     ]
    },
    {
     "data": {
      "image/png": "[encoded data removed]",
      "text/plain": [
       "<Figure size 1000x200 with 1 Axes>"
      ]
     },
     "metadata": {},
     "output_type": "display_data"
    },
    {
     "data": {
      "text/plain": [
       "array([[9.23685431e-01, 1.14215789e-02, 3.52333002e-02, 1.19822575e-02,\n",
       "        1.68211220e-04, 3.17504746e-03, 4.39478550e-04, 1.38946995e-02]],\n",
       "      dtype=float32)"
      ]
     },
     "execution_count": 14,
     "metadata": {},
     "output_type": "execute_result"
    }
   ],
   "source": [
    "ABC = voice_predictions()\n",
    "ABC"
   ]
  }
 ],
 "metadata": {
  "kernelspec": {
   "display_name": "Python 3",
   "language": "python",
   "name": "python3"
  },
  "language_info": {
   "codemirror_mode": {
    "name": "ipython",
    "version": 3
   },
   "file_extension": ".py",
   "mimetype": "text/x-python",
   "name": "python",
   "nbconvert_exporter": "python",
   "pygments_lexer": "ipython3",
   "version": "3.11.4"
  }
 },
 "nbformat": 4,
 "nbformat_minor": 2
}
